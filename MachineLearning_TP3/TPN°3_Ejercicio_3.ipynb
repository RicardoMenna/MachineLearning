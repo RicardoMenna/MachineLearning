{
  "nbformat": 4,
  "nbformat_minor": 0,
  "metadata": {
    "colab": {
      "name": "TPN°3_Ejercicio_3.ipynb",
      "provenance": [],
      "authorship_tag": "ABX9TyMnwq+1TWyLuODgdpj5Jpf1",
      "include_colab_link": true
    },
    "kernelspec": {
      "name": "python3",
      "display_name": "Python 3"
    },
    "language_info": {
      "name": "python"
    }
  },
  "cells": [
    {
      "cell_type": "markdown",
      "metadata": {
        "id": "view-in-github",
        "colab_type": "text"
      },
      "source": [
        "<a href=\"https://colab.research.google.com/github/RicardoMenna/MachineLearning_TP3/blob/main/TPN%C2%B03_Ejercicio_3.ipynb\" target=\"_parent\"><img src=\"https://colab.research.google.com/assets/colab-badge.svg\" alt=\"Open In Colab\"/></a>"
      ]
    },
    {
      "cell_type": "markdown",
      "metadata": {
        "id": "GLf9tXb3GLV0"
      },
      "source": [
        "# **Trabajo Práctico N°3**\n",
        "**Ejercicio 3: K vecinos más cercanos**"
      ]
    },
    {
      "cell_type": "code",
      "metadata": {
        "id": "qieadts2GY_A"
      },
      "source": [
        "\"\"\"Importaciones\"\"\"\n",
        "import pandas as pd\n",
        "import numpy as np\n",
        "from sklearn.model_selection import train_test_split   \n",
        "from sklearn.neighbors import KNeighborsClassifier\n",
        "from sklearn.metrics import confusion_matrix, accuracy_score\n",
        "from sklearn.model_selection import GridSearchCV\n",
        "from tabulate import tabulate"
      ],
      "execution_count": 62,
      "outputs": []
    },
    {
      "cell_type": "markdown",
      "metadata": {
        "id": "f0lyxKpvJzt3"
      },
      "source": [
        "**Importo el dataframe entregado por la cátedra**"
      ]
    },
    {
      "cell_type": "code",
      "metadata": {
        "colab": {
          "base_uri": "https://localhost:8080/",
          "height": 309
        },
        "id": "FtrDFxQ7J8Iy",
        "outputId": "795040f5-001f-463f-b4e1-d2ae71342db3"
      },
      "source": [
        "#Se lee el dataset\n",
        "attributes_spotify = pd.read_csv(\"https://raw.githubusercontent.com/emmanueliarussi/DataScienceCapstone/master/3_MidtermProjects/ProjectBOM/data/attributes_spotify.csv\")\n",
        "attributes_spotify.head()"
      ],
      "execution_count": 11,
      "outputs": [
        {
          "output_type": "execute_result",
          "data": {
            "text/html": [
              "<div>\n",
              "<style scoped>\n",
              "    .dataframe tbody tr th:only-of-type {\n",
              "        vertical-align: middle;\n",
              "    }\n",
              "\n",
              "    .dataframe tbody tr th {\n",
              "        vertical-align: top;\n",
              "    }\n",
              "\n",
              "    .dataframe thead th {\n",
              "        text-align: right;\n",
              "    }\n",
              "</style>\n",
              "<table border=\"1\" class=\"dataframe\">\n",
              "  <thead>\n",
              "    <tr style=\"text-align: right;\">\n",
              "      <th></th>\n",
              "      <th>Unnamed: 0</th>\n",
              "      <th>acousticness</th>\n",
              "      <th>danceability</th>\n",
              "      <th>duration_ms</th>\n",
              "      <th>energy</th>\n",
              "      <th>instrumentalness</th>\n",
              "      <th>key</th>\n",
              "      <th>liveness</th>\n",
              "      <th>loudness</th>\n",
              "      <th>mode</th>\n",
              "      <th>speechiness</th>\n",
              "      <th>tempo</th>\n",
              "      <th>time_signature</th>\n",
              "      <th>valence</th>\n",
              "      <th>target</th>\n",
              "      <th>song_title</th>\n",
              "      <th>artist</th>\n",
              "    </tr>\n",
              "  </thead>\n",
              "  <tbody>\n",
              "    <tr>\n",
              "      <th>0</th>\n",
              "      <td>0</td>\n",
              "      <td>0.0102</td>\n",
              "      <td>0.833</td>\n",
              "      <td>204600</td>\n",
              "      <td>0.434</td>\n",
              "      <td>0.021900</td>\n",
              "      <td>2</td>\n",
              "      <td>0.1650</td>\n",
              "      <td>-8.795</td>\n",
              "      <td>1</td>\n",
              "      <td>0.4310</td>\n",
              "      <td>150.062</td>\n",
              "      <td>4.0</td>\n",
              "      <td>0.286</td>\n",
              "      <td>1</td>\n",
              "      <td>Mask Off</td>\n",
              "      <td>Future</td>\n",
              "    </tr>\n",
              "    <tr>\n",
              "      <th>1</th>\n",
              "      <td>1</td>\n",
              "      <td>0.1990</td>\n",
              "      <td>0.743</td>\n",
              "      <td>326933</td>\n",
              "      <td>0.359</td>\n",
              "      <td>0.006110</td>\n",
              "      <td>1</td>\n",
              "      <td>0.1370</td>\n",
              "      <td>-10.401</td>\n",
              "      <td>1</td>\n",
              "      <td>0.0794</td>\n",
              "      <td>160.083</td>\n",
              "      <td>4.0</td>\n",
              "      <td>0.588</td>\n",
              "      <td>1</td>\n",
              "      <td>Redbone</td>\n",
              "      <td>Childish Gambino</td>\n",
              "    </tr>\n",
              "    <tr>\n",
              "      <th>2</th>\n",
              "      <td>2</td>\n",
              "      <td>0.0344</td>\n",
              "      <td>0.838</td>\n",
              "      <td>185707</td>\n",
              "      <td>0.412</td>\n",
              "      <td>0.000234</td>\n",
              "      <td>2</td>\n",
              "      <td>0.1590</td>\n",
              "      <td>-7.148</td>\n",
              "      <td>1</td>\n",
              "      <td>0.2890</td>\n",
              "      <td>75.044</td>\n",
              "      <td>4.0</td>\n",
              "      <td>0.173</td>\n",
              "      <td>1</td>\n",
              "      <td>Xanny Family</td>\n",
              "      <td>Future</td>\n",
              "    </tr>\n",
              "    <tr>\n",
              "      <th>3</th>\n",
              "      <td>3</td>\n",
              "      <td>0.6040</td>\n",
              "      <td>0.494</td>\n",
              "      <td>199413</td>\n",
              "      <td>0.338</td>\n",
              "      <td>0.510000</td>\n",
              "      <td>5</td>\n",
              "      <td>0.0922</td>\n",
              "      <td>-15.236</td>\n",
              "      <td>1</td>\n",
              "      <td>0.0261</td>\n",
              "      <td>86.468</td>\n",
              "      <td>4.0</td>\n",
              "      <td>0.230</td>\n",
              "      <td>1</td>\n",
              "      <td>Master Of None</td>\n",
              "      <td>Beach House</td>\n",
              "    </tr>\n",
              "    <tr>\n",
              "      <th>4</th>\n",
              "      <td>4</td>\n",
              "      <td>0.1800</td>\n",
              "      <td>0.678</td>\n",
              "      <td>392893</td>\n",
              "      <td>0.561</td>\n",
              "      <td>0.512000</td>\n",
              "      <td>5</td>\n",
              "      <td>0.4390</td>\n",
              "      <td>-11.648</td>\n",
              "      <td>0</td>\n",
              "      <td>0.0694</td>\n",
              "      <td>174.004</td>\n",
              "      <td>4.0</td>\n",
              "      <td>0.904</td>\n",
              "      <td>1</td>\n",
              "      <td>Parallel Lines</td>\n",
              "      <td>Junior Boys</td>\n",
              "    </tr>\n",
              "  </tbody>\n",
              "</table>\n",
              "</div>"
            ],
            "text/plain": [
              "   Unnamed: 0  acousticness  ...      song_title            artist\n",
              "0           0        0.0102  ...        Mask Off            Future\n",
              "1           1        0.1990  ...         Redbone  Childish Gambino\n",
              "2           2        0.0344  ...    Xanny Family            Future\n",
              "3           3        0.6040  ...  Master Of None       Beach House\n",
              "4           4        0.1800  ...  Parallel Lines       Junior Boys\n",
              "\n",
              "[5 rows x 17 columns]"
            ]
          },
          "metadata": {},
          "execution_count": 11
        }
      ]
    },
    {
      "cell_type": "markdown",
      "metadata": {
        "id": "2Mjc8CMKLYiK"
      },
      "source": [
        "**Imprimo los features para verlos en una forma más cómoda**"
      ]
    },
    {
      "cell_type": "code",
      "metadata": {
        "colab": {
          "base_uri": "https://localhost:8080/"
        },
        "id": "cQnPqIPeLYIb",
        "outputId": "692c8dfc-315a-4687-8586-68810a56106d"
      },
      "source": [
        "#Muestro los nombres de los features\n",
        "attributes_spotify.columns"
      ],
      "execution_count": 18,
      "outputs": [
        {
          "output_type": "execute_result",
          "data": {
            "text/plain": [
              "Index(['Unnamed: 0', 'acousticness', 'danceability', 'duration_ms', 'energy',\n",
              "       'instrumentalness', 'key', 'liveness', 'loudness', 'mode',\n",
              "       'speechiness', 'tempo', 'time_signature', 'valence', 'target',\n",
              "       'song_title', 'artist'],\n",
              "      dtype='object')"
            ]
          },
          "metadata": {},
          "execution_count": 18
        }
      ]
    },
    {
      "cell_type": "markdown",
      "metadata": {
        "id": "QUdDFJ6XOk7_"
      },
      "source": [
        "**Observando los distintos features se puede ver que algunos no son relevantes para que una canción guste (aunque pueden influir sugestivamente)**"
      ]
    },
    {
      "cell_type": "code",
      "metadata": {
        "colab": {
          "base_uri": "https://localhost:8080/",
          "height": 359
        },
        "id": "ic_l2eYQPC-w",
        "outputId": "894c77f3-6d38-47ad-c28e-105a2200bac0"
      },
      "source": [
        "#Elimino los features de \"Unnamed: 0\", \"song_title\" y \"artist\"\n",
        "df=attributes_spotify.drop(labels=[\"Unnamed: 0\", \"song_title\", \"artist\"], axis=1)\n",
        "df.head(10)"
      ],
      "execution_count": 21,
      "outputs": [
        {
          "output_type": "execute_result",
          "data": {
            "text/html": [
              "<div>\n",
              "<style scoped>\n",
              "    .dataframe tbody tr th:only-of-type {\n",
              "        vertical-align: middle;\n",
              "    }\n",
              "\n",
              "    .dataframe tbody tr th {\n",
              "        vertical-align: top;\n",
              "    }\n",
              "\n",
              "    .dataframe thead th {\n",
              "        text-align: right;\n",
              "    }\n",
              "</style>\n",
              "<table border=\"1\" class=\"dataframe\">\n",
              "  <thead>\n",
              "    <tr style=\"text-align: right;\">\n",
              "      <th></th>\n",
              "      <th>acousticness</th>\n",
              "      <th>danceability</th>\n",
              "      <th>duration_ms</th>\n",
              "      <th>energy</th>\n",
              "      <th>instrumentalness</th>\n",
              "      <th>key</th>\n",
              "      <th>liveness</th>\n",
              "      <th>loudness</th>\n",
              "      <th>mode</th>\n",
              "      <th>speechiness</th>\n",
              "      <th>tempo</th>\n",
              "      <th>time_signature</th>\n",
              "      <th>valence</th>\n",
              "      <th>target</th>\n",
              "    </tr>\n",
              "  </thead>\n",
              "  <tbody>\n",
              "    <tr>\n",
              "      <th>0</th>\n",
              "      <td>0.01020</td>\n",
              "      <td>0.833</td>\n",
              "      <td>204600</td>\n",
              "      <td>0.434</td>\n",
              "      <td>0.021900</td>\n",
              "      <td>2</td>\n",
              "      <td>0.1650</td>\n",
              "      <td>-8.795</td>\n",
              "      <td>1</td>\n",
              "      <td>0.4310</td>\n",
              "      <td>150.062</td>\n",
              "      <td>4.0</td>\n",
              "      <td>0.286</td>\n",
              "      <td>1</td>\n",
              "    </tr>\n",
              "    <tr>\n",
              "      <th>1</th>\n",
              "      <td>0.19900</td>\n",
              "      <td>0.743</td>\n",
              "      <td>326933</td>\n",
              "      <td>0.359</td>\n",
              "      <td>0.006110</td>\n",
              "      <td>1</td>\n",
              "      <td>0.1370</td>\n",
              "      <td>-10.401</td>\n",
              "      <td>1</td>\n",
              "      <td>0.0794</td>\n",
              "      <td>160.083</td>\n",
              "      <td>4.0</td>\n",
              "      <td>0.588</td>\n",
              "      <td>1</td>\n",
              "    </tr>\n",
              "    <tr>\n",
              "      <th>2</th>\n",
              "      <td>0.03440</td>\n",
              "      <td>0.838</td>\n",
              "      <td>185707</td>\n",
              "      <td>0.412</td>\n",
              "      <td>0.000234</td>\n",
              "      <td>2</td>\n",
              "      <td>0.1590</td>\n",
              "      <td>-7.148</td>\n",
              "      <td>1</td>\n",
              "      <td>0.2890</td>\n",
              "      <td>75.044</td>\n",
              "      <td>4.0</td>\n",
              "      <td>0.173</td>\n",
              "      <td>1</td>\n",
              "    </tr>\n",
              "    <tr>\n",
              "      <th>3</th>\n",
              "      <td>0.60400</td>\n",
              "      <td>0.494</td>\n",
              "      <td>199413</td>\n",
              "      <td>0.338</td>\n",
              "      <td>0.510000</td>\n",
              "      <td>5</td>\n",
              "      <td>0.0922</td>\n",
              "      <td>-15.236</td>\n",
              "      <td>1</td>\n",
              "      <td>0.0261</td>\n",
              "      <td>86.468</td>\n",
              "      <td>4.0</td>\n",
              "      <td>0.230</td>\n",
              "      <td>1</td>\n",
              "    </tr>\n",
              "    <tr>\n",
              "      <th>4</th>\n",
              "      <td>0.18000</td>\n",
              "      <td>0.678</td>\n",
              "      <td>392893</td>\n",
              "      <td>0.561</td>\n",
              "      <td>0.512000</td>\n",
              "      <td>5</td>\n",
              "      <td>0.4390</td>\n",
              "      <td>-11.648</td>\n",
              "      <td>0</td>\n",
              "      <td>0.0694</td>\n",
              "      <td>174.004</td>\n",
              "      <td>4.0</td>\n",
              "      <td>0.904</td>\n",
              "      <td>1</td>\n",
              "    </tr>\n",
              "    <tr>\n",
              "      <th>5</th>\n",
              "      <td>0.00479</td>\n",
              "      <td>0.804</td>\n",
              "      <td>251333</td>\n",
              "      <td>0.560</td>\n",
              "      <td>0.000000</td>\n",
              "      <td>8</td>\n",
              "      <td>0.1640</td>\n",
              "      <td>-6.682</td>\n",
              "      <td>1</td>\n",
              "      <td>0.1850</td>\n",
              "      <td>85.023</td>\n",
              "      <td>4.0</td>\n",
              "      <td>0.264</td>\n",
              "      <td>1</td>\n",
              "    </tr>\n",
              "    <tr>\n",
              "      <th>6</th>\n",
              "      <td>0.01450</td>\n",
              "      <td>0.739</td>\n",
              "      <td>241400</td>\n",
              "      <td>0.472</td>\n",
              "      <td>0.000007</td>\n",
              "      <td>1</td>\n",
              "      <td>0.2070</td>\n",
              "      <td>-11.204</td>\n",
              "      <td>1</td>\n",
              "      <td>0.1560</td>\n",
              "      <td>80.030</td>\n",
              "      <td>4.0</td>\n",
              "      <td>0.308</td>\n",
              "      <td>1</td>\n",
              "    </tr>\n",
              "    <tr>\n",
              "      <th>7</th>\n",
              "      <td>0.02020</td>\n",
              "      <td>0.266</td>\n",
              "      <td>349667</td>\n",
              "      <td>0.348</td>\n",
              "      <td>0.664000</td>\n",
              "      <td>10</td>\n",
              "      <td>0.1600</td>\n",
              "      <td>-11.609</td>\n",
              "      <td>0</td>\n",
              "      <td>0.0371</td>\n",
              "      <td>144.154</td>\n",
              "      <td>4.0</td>\n",
              "      <td>0.393</td>\n",
              "      <td>1</td>\n",
              "    </tr>\n",
              "    <tr>\n",
              "      <th>8</th>\n",
              "      <td>0.04810</td>\n",
              "      <td>0.603</td>\n",
              "      <td>202853</td>\n",
              "      <td>0.944</td>\n",
              "      <td>0.000000</td>\n",
              "      <td>11</td>\n",
              "      <td>0.3420</td>\n",
              "      <td>-3.626</td>\n",
              "      <td>0</td>\n",
              "      <td>0.3470</td>\n",
              "      <td>130.035</td>\n",
              "      <td>4.0</td>\n",
              "      <td>0.398</td>\n",
              "      <td>1</td>\n",
              "    </tr>\n",
              "    <tr>\n",
              "      <th>9</th>\n",
              "      <td>0.00208</td>\n",
              "      <td>0.836</td>\n",
              "      <td>226840</td>\n",
              "      <td>0.603</td>\n",
              "      <td>0.000000</td>\n",
              "      <td>7</td>\n",
              "      <td>0.5710</td>\n",
              "      <td>-7.792</td>\n",
              "      <td>1</td>\n",
              "      <td>0.2370</td>\n",
              "      <td>99.994</td>\n",
              "      <td>4.0</td>\n",
              "      <td>0.386</td>\n",
              "      <td>1</td>\n",
              "    </tr>\n",
              "  </tbody>\n",
              "</table>\n",
              "</div>"
            ],
            "text/plain": [
              "   acousticness  danceability  duration_ms  ...  time_signature  valence  target\n",
              "0       0.01020         0.833       204600  ...             4.0    0.286       1\n",
              "1       0.19900         0.743       326933  ...             4.0    0.588       1\n",
              "2       0.03440         0.838       185707  ...             4.0    0.173       1\n",
              "3       0.60400         0.494       199413  ...             4.0    0.230       1\n",
              "4       0.18000         0.678       392893  ...             4.0    0.904       1\n",
              "5       0.00479         0.804       251333  ...             4.0    0.264       1\n",
              "6       0.01450         0.739       241400  ...             4.0    0.308       1\n",
              "7       0.02020         0.266       349667  ...             4.0    0.393       1\n",
              "8       0.04810         0.603       202853  ...             4.0    0.398       1\n",
              "9       0.00208         0.836       226840  ...             4.0    0.386       1\n",
              "\n",
              "[10 rows x 14 columns]"
            ]
          },
          "metadata": {},
          "execution_count": 21
        }
      ]
    },
    {
      "cell_type": "markdown",
      "metadata": {
        "id": "02gboeEYQBOf"
      },
      "source": [
        "**Realizo el cálculo de distancia y comienzo a entrenar**"
      ]
    },
    {
      "cell_type": "code",
      "metadata": {
        "colab": {
          "base_uri": "https://localhost:8080/"
        },
        "id": "abojf4CNQTFk",
        "outputId": "07c831c1-63d2-4718-83b9-62d6bcd85ac3"
      },
      "source": [
        "val_k=int(np.sqrt(df.size)/2)\n",
        "\n",
        "#Separo los datos en x y para trabajar más cómodo\n",
        "x=df\n",
        "x=x.drop(labels=\"target\", axis=1)\n",
        "y= df[\"target\"]\n",
        "\n",
        "# Importo la función para dividir los datos y entreno con el 50% de los datos\n",
        "X_train, X_test, y_train, y_test = train_test_split(x, y, train_size = 0.5)  \n",
        "\n",
        "knn = KNeighborsClassifier(n_neighbors = val_k, leaf_size=30)                   # Creo el clasificador\n",
        "knn.fit(X_train, y_train)  \n",
        "valor=knn.score(X_train, y_train)\n",
        "valor=np.round(valor,2)\n",
        "\n",
        "# Ahora me fijo si entreno bien o no\n",
        "print(\"Exactitud (accuracy) en el entrenamiento:\" + str(valor) )"
      ],
      "execution_count": 75,
      "outputs": [
        {
          "output_type": "stream",
          "name": "stdout",
          "text": [
            "Exactitud (accuracy) en el entrenamiento:0.59\n"
          ]
        }
      ]
    },
    {
      "cell_type": "markdown",
      "metadata": {
        "id": "cM1MbHo-VKJ2"
      },
      "source": [
        "**Realizo una predicción**"
      ]
    },
    {
      "cell_type": "code",
      "metadata": {
        "colab": {
          "base_uri": "https://localhost:8080/"
        },
        "id": "dBTnbTjqYDRG",
        "outputId": "b383c9a1-4660-4bda-ffcc-b5c5d007eada"
      },
      "source": [
        "y_pred = knn.predict(X_test)\n",
        "print(\"Exactitud en el testeo: \" +str(np.round(accuracy_score(y_test, y_pred), 2))+ \"\\n\")\n",
        "mat=confusion_matrix(y_test,y_pred)\n",
        "resultados= [ [\"TP\", mat[0,0]],\n",
        "            [\"FP\", mat[0,1]],\n",
        "            [\"FF\", mat[1,0]],\n",
        "            [\"TF\", mat[1,1]]]\n",
        "print(tabulate(resultados, headers=[\"Tipo\", \"Cantidad\"])+\"\\n\")"
      ],
      "execution_count": 63,
      "outputs": [
        {
          "output_type": "stream",
          "name": "stdout",
          "text": [
            "Exactitud en el testeo: 0.57\n",
            "\n",
            "Tipo      Cantidad\n",
            "------  ----------\n",
            "TP             367\n",
            "FP             110\n",
            "FF             321\n",
            "TF             211\n",
            "\n"
          ]
        }
      ]
    },
    {
      "cell_type": "markdown",
      "metadata": {
        "id": "ZMYRCrHGaV0q"
      },
      "source": [
        "**Es probable que eliminando algunos features más la predicción mejore. Intentaré eliminando \"duration_ms\", \"key\" y \"mode\"**"
      ]
    },
    {
      "cell_type": "code",
      "metadata": {
        "colab": {
          "base_uri": "https://localhost:8080/"
        },
        "id": "GzVqDQqlaVTu",
        "outputId": "d22f2892-22f4-4c72-f728-2ed0365097c5"
      },
      "source": [
        "x_new=x.drop(labels=[\"duration_ms\",\"key\",\"mode\"], axis=1)\n",
        "X_train, X_test, y_train, y_test = train_test_split(x_new, y, train_size = 0.5)  \n",
        "\n",
        "knn = KNeighborsClassifier(n_neighbors = val_k, leaf_size=30)                   # Creo el clasificador\n",
        "knn.fit(X_train, y_train)  \n",
        "valor=knn.score(X_train, y_train)\n",
        "valor=np.round(valor,2)\n",
        "\n",
        "# Ahora me fijo si entreno bien o no\n",
        "print(\"Exactitud (accuracy) en el entrenamiento:\" + str(valor) )"
      ],
      "execution_count": 83,
      "outputs": [
        {
          "output_type": "stream",
          "name": "stdout",
          "text": [
            "Exactitud (accuracy) en el entrenamiento:0.61\n"
          ]
        }
      ]
    },
    {
      "cell_type": "markdown",
      "metadata": {
        "id": "yVRbRsQodieV"
      },
      "source": [
        "**Realizo una predicción para observar que sucede con la exactitud en el testeo**"
      ]
    },
    {
      "cell_type": "code",
      "metadata": {
        "colab": {
          "base_uri": "https://localhost:8080/"
        },
        "id": "c_HhdKSWc4sG",
        "outputId": "9ad8e6de-8677-47b2-d6c1-503e6636deaf"
      },
      "source": [
        "y_pred = knn.predict(X_test)\n",
        "print(\"Exactitud en el testeo: \" +str(np.round(accuracy_score(y_test, y_pred), 2))+ \"\\n\")\n",
        "mat=confusion_matrix(y_test,y_pred)\n",
        "resultados= [ [\"TP\", mat[0,0]],\n",
        "            [\"FP\", mat[0,1]],\n",
        "            [\"FF\", mat[1,0]],\n",
        "            [\"TF\", mat[1,1]]]\n",
        "print(tabulate(resultados, headers=[\"Tipo\", \"Cantidad\"])+\"\\n\")"
      ],
      "execution_count": 84,
      "outputs": [
        {
          "output_type": "stream",
          "name": "stdout",
          "text": [
            "Exactitud en el testeo: 0.6\n",
            "\n",
            "Tipo      Cantidad\n",
            "------  ----------\n",
            "TP             294\n",
            "FP             185\n",
            "FF             221\n",
            "TF             309\n",
            "\n"
          ]
        }
      ]
    },
    {
      "cell_type": "markdown",
      "metadata": {
        "id": "HNUR0Q0hdl8y"
      },
      "source": [
        "**Se puede observar en este caso que al quitar más features mejoró la predicción. Sin embargo no siempre ocurre esto y hay que tener sumo cuidado con cuales features quitar.**"
      ]
    }
  ]
}