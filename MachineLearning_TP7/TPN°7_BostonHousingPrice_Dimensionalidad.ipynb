{
  "nbformat": 4,
  "nbformat_minor": 0,
  "metadata": {
    "colab": {
      "name": "TPN°7-BostonHousingPrice-Dimensionalidad.ipynb",
      "provenance": []
    },
    "kernelspec": {
      "name": "python3",
      "display_name": "Python 3"
    },
    "language_info": {
      "name": "python"
    }
  },
  "cells": [
    {
      "cell_type": "markdown",
      "metadata": {
        "id": "D6AHTxNnUrkZ"
      },
      "source": [
        "# **Trabajo Práctico N°7**\n",
        "**Ejercicio: BostonHousingPrice-Dimensionalidad**"
      ]
    },
    {
      "cell_type": "markdown",
      "source": [
        "**El objetivo de este ejercicio es utilizar distintos métodos para reducir la dimensionalidad a 2 dimensiones y ver cuales considera de mayor relevancia cada método.**"
      ],
      "metadata": {
        "id": "2Rbw6emBe8KK"
      }
    },
    {
      "cell_type": "code",
      "metadata": {
        "id": "Wqjms8JaUvHa"
      },
      "source": [
        "\"\"\"Importaciones\"\"\"\n",
        "import pandas as pd\n",
        "from sklearn.datasets import load_boston\n",
        "from sklearn.preprocessing import StandardScaler\n",
        "import numpy as np\n",
        "from tabulate import tabulate\n",
        "from sklearn.decomposition import PCA\n",
        "from sklearn.feature_selection import RFE\n",
        "from sklearn.linear_model import LinearRegression\n",
        "from sklearn.ensemble import ExtraTreesRegressor\n",
        "from sklearn.model_selection import train_test_split"
      ],
      "execution_count": 24,
      "outputs": []
    },
    {
      "cell_type": "markdown",
      "source": [
        "**Cargo los valores. Quito las filas con valores Nan y estandarizo**"
      ],
      "metadata": {
        "id": "-ye5D643FZmx"
      }
    },
    {
      "cell_type": "code",
      "source": [
        "true_news = pd.read_csv(\"https://raw.githubusercontent.com/emmanueliarussi/DataScienceCapstone/master/3_MidtermProjects/ProjectBHP/data/housing_data.csv\")\n",
        "true_news.head()"
      ],
      "metadata": {
        "colab": {
          "base_uri": "https://localhost:8080/",
          "height": 204
        },
        "id": "Z73pNNS8FdTF",
        "outputId": "9ae20eb8-4219-4391-ad0f-828455c5a4ff"
      },
      "execution_count": 25,
      "outputs": [
        {
          "output_type": "execute_result",
          "data": {
            "text/html": [
              "<div>\n",
              "<style scoped>\n",
              "    .dataframe tbody tr th:only-of-type {\n",
              "        vertical-align: middle;\n",
              "    }\n",
              "\n",
              "    .dataframe tbody tr th {\n",
              "        vertical-align: top;\n",
              "    }\n",
              "\n",
              "    .dataframe thead th {\n",
              "        text-align: right;\n",
              "    }\n",
              "</style>\n",
              "<table border=\"1\" class=\"dataframe\">\n",
              "  <thead>\n",
              "    <tr style=\"text-align: right;\">\n",
              "      <th></th>\n",
              "      <th>CRIM</th>\n",
              "      <th>ZN</th>\n",
              "      <th>INDUS</th>\n",
              "      <th>CHAS</th>\n",
              "      <th>NOX</th>\n",
              "      <th>RM</th>\n",
              "      <th>AGE</th>\n",
              "      <th>DIS</th>\n",
              "      <th>RAD</th>\n",
              "      <th>TAX</th>\n",
              "      <th>PTRATIO</th>\n",
              "      <th>B</th>\n",
              "      <th>LSTAT</th>\n",
              "      <th>MEDV</th>\n",
              "    </tr>\n",
              "  </thead>\n",
              "  <tbody>\n",
              "    <tr>\n",
              "      <th>0</th>\n",
              "      <td>0.00632</td>\n",
              "      <td>18.0</td>\n",
              "      <td>2.31</td>\n",
              "      <td>0.0</td>\n",
              "      <td>0.538</td>\n",
              "      <td>6.575</td>\n",
              "      <td>65.2</td>\n",
              "      <td>4.0900</td>\n",
              "      <td>1</td>\n",
              "      <td>296</td>\n",
              "      <td>15.3</td>\n",
              "      <td>396.90</td>\n",
              "      <td>4.98</td>\n",
              "      <td>24.0</td>\n",
              "    </tr>\n",
              "    <tr>\n",
              "      <th>1</th>\n",
              "      <td>0.02731</td>\n",
              "      <td>0.0</td>\n",
              "      <td>7.07</td>\n",
              "      <td>0.0</td>\n",
              "      <td>0.469</td>\n",
              "      <td>6.421</td>\n",
              "      <td>78.9</td>\n",
              "      <td>4.9671</td>\n",
              "      <td>2</td>\n",
              "      <td>242</td>\n",
              "      <td>17.8</td>\n",
              "      <td>396.90</td>\n",
              "      <td>9.14</td>\n",
              "      <td>21.6</td>\n",
              "    </tr>\n",
              "    <tr>\n",
              "      <th>2</th>\n",
              "      <td>0.02729</td>\n",
              "      <td>0.0</td>\n",
              "      <td>7.07</td>\n",
              "      <td>0.0</td>\n",
              "      <td>0.469</td>\n",
              "      <td>7.185</td>\n",
              "      <td>61.1</td>\n",
              "      <td>4.9671</td>\n",
              "      <td>2</td>\n",
              "      <td>242</td>\n",
              "      <td>17.8</td>\n",
              "      <td>392.83</td>\n",
              "      <td>4.03</td>\n",
              "      <td>34.7</td>\n",
              "    </tr>\n",
              "    <tr>\n",
              "      <th>3</th>\n",
              "      <td>0.03237</td>\n",
              "      <td>0.0</td>\n",
              "      <td>2.18</td>\n",
              "      <td>0.0</td>\n",
              "      <td>0.458</td>\n",
              "      <td>6.998</td>\n",
              "      <td>45.8</td>\n",
              "      <td>6.0622</td>\n",
              "      <td>3</td>\n",
              "      <td>222</td>\n",
              "      <td>18.7</td>\n",
              "      <td>394.63</td>\n",
              "      <td>2.94</td>\n",
              "      <td>33.4</td>\n",
              "    </tr>\n",
              "    <tr>\n",
              "      <th>4</th>\n",
              "      <td>0.06905</td>\n",
              "      <td>0.0</td>\n",
              "      <td>2.18</td>\n",
              "      <td>0.0</td>\n",
              "      <td>0.458</td>\n",
              "      <td>7.147</td>\n",
              "      <td>54.2</td>\n",
              "      <td>6.0622</td>\n",
              "      <td>3</td>\n",
              "      <td>222</td>\n",
              "      <td>18.7</td>\n",
              "      <td>396.90</td>\n",
              "      <td>NaN</td>\n",
              "      <td>36.2</td>\n",
              "    </tr>\n",
              "  </tbody>\n",
              "</table>\n",
              "</div>"
            ],
            "text/plain": [
              "      CRIM    ZN  INDUS  CHAS    NOX  ...  TAX  PTRATIO       B  LSTAT  MEDV\n",
              "0  0.00632  18.0   2.31   0.0  0.538  ...  296     15.3  396.90   4.98  24.0\n",
              "1  0.02731   0.0   7.07   0.0  0.469  ...  242     17.8  396.90   9.14  21.6\n",
              "2  0.02729   0.0   7.07   0.0  0.469  ...  242     17.8  392.83   4.03  34.7\n",
              "3  0.03237   0.0   2.18   0.0  0.458  ...  222     18.7  394.63   2.94  33.4\n",
              "4  0.06905   0.0   2.18   0.0  0.458  ...  222     18.7  396.90    NaN  36.2\n",
              "\n",
              "[5 rows x 14 columns]"
            ]
          },
          "metadata": {},
          "execution_count": 25
        }
      ]
    },
    {
      "cell_type": "code",
      "source": [
        "data = true_news.dropna()\n",
        "data_std = StandardScaler().fit_transform(data)"
      ],
      "metadata": {
        "id": "HZfM3_J7RBqV"
      },
      "execution_count": 26,
      "outputs": []
    },
    {
      "cell_type": "markdown",
      "source": [
        "#**Método 1.**"
      ],
      "metadata": {
        "id": "2SAvMdpJM4Kh"
      }
    },
    {
      "cell_type": "markdown",
      "source": [
        "**Creo la matriz de covarianza.**"
      ],
      "metadata": {
        "id": "xYBgw_D9GxLM"
      }
    },
    {
      "cell_type": "code",
      "source": [
        "matriz_cov = np.cov(data_std.T)"
      ],
      "metadata": {
        "id": "NqYaQOESGxAH"
      },
      "execution_count": 27,
      "outputs": []
    },
    {
      "cell_type": "markdown",
      "source": [
        "**Hallo autovalores y autovectores de la matriz.** "
      ],
      "metadata": {
        "id": "eo8R_g3-HJGR"
      }
    },
    {
      "cell_type": "code",
      "source": [
        "autovalores, autovectores = np.linalg.eig(matriz_cov)"
      ],
      "metadata": {
        "id": "q_LE38gpHM_p"
      },
      "execution_count": 28,
      "outputs": []
    },
    {
      "cell_type": "markdown",
      "source": [
        "**Calculo el porcentaje de varianza de las variables.**"
      ],
      "metadata": {
        "id": "q7C0fUuqHdL_"
      }
    },
    {
      "cell_type": "code",
      "source": [
        "varianza_tot = sum(autovalores)\n",
        "var_ind = [(i /varianza_tot) for i in autovalores]\n",
        "resultados =[[data.columns.values[0], var_ind[0]],\n",
        "            [data.columns.values[1], var_ind[1]],\n",
        "            [data.columns.values[2], var_ind[2]],\n",
        "            [data.columns.values[3], var_ind[3]],\n",
        "            [data.columns.values[4], var_ind[4]],\n",
        "            [data.columns.values[5], var_ind[5]],\n",
        "            [data.columns.values[6], var_ind[6]],\n",
        "            [data.columns.values[7], var_ind[7]],\n",
        "            [data.columns.values[8], var_ind[8]],\n",
        "            [data.columns.values[9], var_ind[9]],\n",
        "            [data.columns.values[10], var_ind[10]],\n",
        "            [data.columns.values[11], var_ind[11]],\n",
        "            [data.columns.values[12], var_ind[12]]]\n",
        "print(tabulate(resultados, headers=[\"Nombres\",  \"Porcentaje\"]))"
      ],
      "metadata": {
        "colab": {
          "base_uri": "https://localhost:8080/"
        },
        "id": "bl-vNugYHjR2",
        "outputId": "b8cad8cc-8a2f-423d-ebca-76d510406eb9"
      },
      "execution_count": 29,
      "outputs": [
        {
          "output_type": "stream",
          "name": "stdout",
          "text": [
            "Nombres      Porcentaje\n",
            "---------  ------------\n",
            "CRIM         0.472112\n",
            "ZN           0.115383\n",
            "INDUS        0.0962526\n",
            "CHAS         0.0640082\n",
            "NOX          0.0587932\n",
            "RM           0.047487\n",
            "AGE          0.0397575\n",
            "DIS          0.0275923\n",
            "RAD          0.00441544\n",
            "TAX          0.0204173\n",
            "PTRATIO      0.00950503\n",
            "B            0.017062\n",
            "LSTAT        0.0144916\n"
          ]
        }
      ]
    },
    {
      "cell_type": "markdown",
      "source": [
        "**Viendo estos valores, se puede determinar que la primera y segunda variables (CRIM, ZN) son las más esenciales para el modelo.**"
      ],
      "metadata": {
        "id": "1hkqFfFiIP-G"
      }
    },
    {
      "cell_type": "markdown",
      "source": [
        "#**Método 2.**"
      ],
      "metadata": {
        "id": "LZ0rPkF1M8sA"
      }
    },
    {
      "cell_type": "markdown",
      "source": [
        "**Ahora se puede hacer descomposición por valores singulares. En python es conocido como PCA.**"
      ],
      "metadata": {
        "id": "QAPEMMMAL4ZY"
      }
    },
    {
      "cell_type": "code",
      "source": [
        "pca = PCA(n_components=2)\n",
        "pca.fit(data_std)"
      ],
      "metadata": {
        "colab": {
          "base_uri": "https://localhost:8080/"
        },
        "id": "2ZvMDbuRMcJD",
        "outputId": "206dcc19-e1a4-4f00-a183-457ace3c5bba"
      },
      "execution_count": 30,
      "outputs": [
        {
          "output_type": "execute_result",
          "data": {
            "text/plain": [
              "PCA(n_components=2)"
            ]
          },
          "metadata": {},
          "execution_count": 30
        }
      ]
    },
    {
      "cell_type": "markdown",
      "source": [
        "**Confirmo los valores de PCA.**"
      ],
      "metadata": {
        "id": "RB5FWnOsO7xN"
      }
    },
    {
      "cell_type": "code",
      "source": [
        "print(pca.explained_variance_ratio_)"
      ],
      "metadata": {
        "colab": {
          "base_uri": "https://localhost:8080/"
        },
        "id": "WE6kCtziO-sy",
        "outputId": "dc6fe9ef-ea68-4987-a1a2-ed0bb2fbb14f"
      },
      "execution_count": 31,
      "outputs": [
        {
          "output_type": "stream",
          "name": "stdout",
          "text": [
            "[0.4721123  0.11538325]\n"
          ]
        }
      ]
    },
    {
      "cell_type": "markdown",
      "source": [
        "**Se puede apreciar que los valores son iguales a los encontrados con el método 1.**"
      ],
      "metadata": {
        "id": "9JrBHbjKPBkb"
      }
    },
    {
      "cell_type": "markdown",
      "source": [
        "#**Método 3.**"
      ],
      "metadata": {
        "id": "0_M_MACYQDuv"
      }
    },
    {
      "cell_type": "markdown",
      "source": [
        "**Eliminación de features recursivos.**"
      ],
      "metadata": {
        "id": "0F6Y456jRdXI"
      }
    },
    {
      "cell_type": "code",
      "source": [
        "X = data.drop([\"MEDV\"], axis = 1)\n",
        "y = data[\"MEDV\"]\n",
        "modelo = LinearRegression()\n",
        "rfe = RFE(modelo,n_features_to_select=2)"
      ],
      "metadata": {
        "id": "Fhh1j3OsQGYy"
      },
      "execution_count": 32,
      "outputs": []
    },
    {
      "cell_type": "code",
      "source": [
        "fit_modelo=rfe.fit(X,y)\n",
        "print(fit_modelo.get_support())"
      ],
      "metadata": {
        "colab": {
          "base_uri": "https://localhost:8080/"
        },
        "id": "GVyfvz6rS7L_",
        "outputId": "37fa8f0d-f2f7-451a-c1f7-a5a2c1785a6f"
      },
      "execution_count": 33,
      "outputs": [
        {
          "output_type": "stream",
          "name": "stdout",
          "text": [
            "[False False False False  True  True False False False False False False\n",
            " False]\n"
          ]
        }
      ]
    },
    {
      "cell_type": "markdown",
      "source": [
        "**Muestro los nombres de las variables más importantes para este método.**"
      ],
      "metadata": {
        "id": "WvWNW_L8TlY2"
      }
    },
    {
      "cell_type": "code",
      "source": [
        "print(data.columns.values[4]+\", \"+ data.columns.values[5]+\".\")"
      ],
      "metadata": {
        "colab": {
          "base_uri": "https://localhost:8080/"
        },
        "id": "jd8N0VW0TtDN",
        "outputId": "c6b673f7-2eeb-484a-c2f1-6365fc4462f3"
      },
      "execution_count": 34,
      "outputs": [
        {
          "output_type": "stream",
          "name": "stdout",
          "text": [
            "NOX, RM.\n"
          ]
        }
      ]
    },
    {
      "cell_type": "markdown",
      "source": [
        "**Curiosamente, este método nos dice que los features más importantes son NOX y RM. A diferencia de los métodos usados anteriormente.**"
      ],
      "metadata": {
        "id": "JHWIVTbXUDAO"
      }
    },
    {
      "cell_type": "markdown",
      "source": [
        "#**Método 4.**"
      ],
      "metadata": {
        "id": "S1p8hWmrUcac"
      }
    },
    {
      "cell_type": "markdown",
      "source": [
        "**Importancia de features.**"
      ],
      "metadata": {
        "id": "NuXuewuhUg_q"
      }
    },
    {
      "cell_type": "code",
      "source": [
        "modelo = ExtraTreesRegressor()\n",
        "modelo.fit(X,y)\n",
        "print(modelo.feature_importances_)"
      ],
      "metadata": {
        "colab": {
          "base_uri": "https://localhost:8080/"
        },
        "id": "Il0bhSx6UcFU",
        "outputId": "5aa6814a-1e2b-4dea-cbda-d5284b6be195"
      },
      "execution_count": 35,
      "outputs": [
        {
          "output_type": "stream",
          "name": "stdout",
          "text": [
            "[0.03474843 0.00656372 0.03743118 0.01786204 0.03516101 0.32430519\n",
            " 0.01737424 0.02990072 0.018298   0.05198067 0.06522341 0.01779159\n",
            " 0.3433598 ]\n"
          ]
        }
      ]
    },
    {
      "cell_type": "markdown",
      "source": [
        "**Muestro los nombres de las variables más importantes para este método.**"
      ],
      "metadata": {
        "id": "OcZdFs5NVmys"
      }
    },
    {
      "cell_type": "code",
      "source": [
        "print(data.columns.values[5] +\", \"+  data.columns.values[12]+\".\")"
      ],
      "metadata": {
        "colab": {
          "base_uri": "https://localhost:8080/"
        },
        "id": "dG-HzLqXVndF",
        "outputId": "adecc2d5-5ba2-4b76-9d6d-28f4a2afc898"
      },
      "execution_count": 36,
      "outputs": [
        {
          "output_type": "stream",
          "name": "stdout",
          "text": [
            "RM, LSTAT.\n"
          ]
        }
      ]
    },
    {
      "cell_type": "markdown",
      "source": [
        "**Este método también da variables diferentes a las de los primeros 2 métodos y solo comparte la variable RM del método 3.**"
      ],
      "metadata": {
        "id": "fQxCYd1qVu86"
      }
    },
    {
      "cell_type": "markdown",
      "source": [
        "#**Conclusión.**"
      ],
      "metadata": {
        "id": "mhxqd8wkfTYS"
      }
    },
    {
      "cell_type": "markdown",
      "source": [
        "**Se puede apreciar en los métodos usados anteriormente que no siempre se considera relevantes a las mismas features. Entonces es importante corroborar estos resultados antes de eliminar columnas.**\n",
        "\n",
        "**Observación: Se podría realizar un análisis de como impacta cada método en los resultados finales para ver cual tuvo mejor rendimineto. Sin embargo, no es la idea con la que se encaró el ejercicio (solo se buscó reducir la dimensionalidad con diferentes métodos).** "
      ],
      "metadata": {
        "id": "CX6GOGeRfWWv"
      }
    }
  ]
}